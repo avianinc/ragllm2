{
 "cells": [
  {
   "cell_type": "code",
   "execution_count": 15,
   "id": "5bf1f343-fd0e-4bdb-8320-9d58bd4c3c1e",
   "metadata": {},
   "outputs": [],
   "source": [
    "import requests\n",
    "import traceback\n",
    "import json\n",
    "import csv\n",
    "import re"
   ]
  },
  {
   "cell_type": "code",
   "execution_count": 10,
   "id": "fae7ad7b-47a1-4089-804c-a55a70cfaf05",
   "metadata": {},
   "outputs": [
    {
     "name": "stdout",
     "output_type": "stream",
     "text": [
      "Request successful... Context updated\n"
     ]
    }
   ],
   "source": [
    "# Now let reprocess the data files\n",
    "import requests\n",
    "\n",
    "# Define the URL to which the form submits data\n",
    "# Assuming 'base_url' is the domain where the form resides, you need to replace it with the actual domain\n",
    "base_url = 'http://localhost:5000'\n",
    "endpoint = '/reprocess'\n",
    "url = base_url + endpoint\n",
    "\n",
    "# Make the POST request to the endpoint\n",
    "response = requests.post(url)\n",
    "\n",
    "# Check if the request was successful\n",
    "if response.status_code == 200:\n",
    "    print(\"Request successful... Context updated\")\n",
    "else:\n",
    "    print(f\"Request failed. Status code: {response.status_code}\")\n"
   ]
  },
  {
   "cell_type": "code",
   "execution_count": 11,
   "id": "8928fda8-d938-4086-ae9c-0ff860dc7a53",
   "metadata": {},
   "outputs": [
    {
     "name": "stdout",
     "output_type": "stream",
     "text": [
      "Success: {\"qhid\":\"84427666-970b-49f1-b7a5-67f13b371054\",\"response\":\"\\nThe event effectively covered relevant topics such as system integration and simulation models but could benefit from more in-depth case studies on troubleshooting complex systems. The welcome packet provided a comprehensive overview of the schedule and objectives, with suggestions for including a glossary of technical terms and abbreviations to enhance understanding for all attendees.\\n\\nThe visualization software facilitated good understanding of simulation models but had an unintuitive interface that could be improved by redesigning it or providing a brief tutorial session at the start. The navy pilot's feedback emphasized the relevance of content, particularly focusing on flight dynamics and mission scenario simulations. They suggested more examples related to naval aviation and carrier-based operations for increased pertinence.\\n\\nThe welcome packet was informative with suggestions for adding a brief section on aviation-specific simulation technologies. The visualization software effectively demonstrated flight simulations and potential real-world applications, but improvements could be made in simulating more complex aerial maneuvers and incorporating variable weather conditions.\\n\\nParticipants suggested that future events should include interactive sessions on system optimization and efficiency improvements in simulation models, as well as a segment dedicated to Q&A with\"}\n",
      "\n"
     ]
    }
   ],
   "source": [
    "# Now lets query the model\n",
    "# The URL to which the request is being sent\n",
    "url = 'http://localhost:5000/query'\n",
    "\n",
    "# Headers to be sent with the request\n",
    "headers = {\n",
    "    'Content-Type': 'application/json'\n",
    "}\n",
    "\n",
    "# Data to be sent in the request\n",
    "data = {\n",
    "    'query': 'Can you summarize the feedback from the participants?'\n",
    "}\n",
    "\n",
    "# Make the POST request\n",
    "response = requests.post(url, headers=headers, data=json.dumps(data))\n",
    "\n",
    "# Check the response\n",
    "if response.status_code == 200:\n",
    "    print(\"Success:\", response.text)\n",
    "else:\n",
    "    print(\"Error:\", response.status_code, response.text)"
   ]
  },
  {
   "cell_type": "code",
   "execution_count": 12,
   "id": "8f054a0f-91cc-43ef-b88d-50d4531e10d3",
   "metadata": {},
   "outputs": [
    {
     "data": {
      "text/plain": [
       "'84427666-970b-49f1-b7a5-67f13b371054'"
      ]
     },
     "execution_count": 12,
     "metadata": {},
     "output_type": "execute_result"
    }
   ],
   "source": [
    "# Get the query history id - qhid\n",
    "qhid = response.json()['qhid']\n",
    "qhid"
   ]
  },
  {
   "cell_type": "code",
   "execution_count": 13,
   "id": "069918af-a97a-4992-b1aa-982166ed3d08",
   "metadata": {},
   "outputs": [
    {
     "name": "stdout",
     "output_type": "stream",
     "text": [
      "Success: {\"qhid\":\"84427666-970b-49f1-b7a5-67f13b371054\",\"response\":\"\\nTo create a bar chart that plots the software scores by participants, we can use the matplotlib library in Python. Here's an example code snippet:\\n```python\\nimport matplotlib.pyplot as plt\\n\\n# Assuming you have your data in a list of dictionaries where each dictionary represents a participant and their feedback on different aspects (e.g., event content, welcome packet, software), the scores can be extracted from the dictionary using keys like 'event_content', 'welcome_packet', etc. \\n\\n# Extracting the scores for the software aspect:\\n```python\\nsoftware_scores = [participant['software'] for participant in participants]\\n```\\nThen, you can create a bar chart with matplotlib:\\n```python\\nplt.bar(categories, scores)\\nplt.xlabel('Category')\\nplt.ylabel('Score')\\nplt.title('Software Scores by Participants')\\nplt.show()\\n```\\nHere, `categories` is a list of categories (e.g., 'event content', 'welcome packet', etc.) and `scores` is the corresponding list of scores for each category. The x-\"}\n",
      "\n"
     ]
    }
   ],
   "source": [
    "# Now lets cointinue the discussion using the quid\n",
    "# The URL to which the request is being sent\n",
    "url = 'http://localhost:5000/query'\n",
    "\n",
    "# Headers to be sent with the request\n",
    "headers = {\n",
    "    'Content-Type': 'application/json'\n",
    "}\n",
    "\n",
    "# Data to be sent in the request\n",
    "data = {\n",
    "    'query': 'Can you provide python code to plot the software scores by participants?',\n",
    "    'qhid': qhid\n",
    "}\n",
    "\n",
    "# Make the POST request\n",
    "response = requests.post(url, headers=headers, data=json.dumps(data))\n",
    "\n",
    "# Check the response\n",
    "if response.status_code == 200:\n",
    "    print(\"Success:\", response.text)\n",
    "else:\n",
    "    print(\"Error:\", response.status_code, response.text)"
   ]
  },
  {
   "cell_type": "code",
   "execution_count": 7,
   "id": "6f880477-da3a-4b6d-8073-fae6fec67617",
   "metadata": {},
   "outputs": [
    {
     "name": "stdout",
     "output_type": "stream",
     "text": [
      "import matplotlib.pyplot as plt\n",
      "labels = ['Software', 'Welcome Packet']\n",
      "sizes = [810, 910]\n",
      "\n",
      "plt.pie(sizes, labels=labels, autopct='%1.1f%%')\n",
      "plt.show()\n"
     ]
    }
   ],
   "source": [
    "# Convert to json data\n",
    "response_data = json.loads(response.text)\n",
    "\n",
    "# Extracting the code string\n",
    "code_string = response_data['response'].split(\"```python\\n\", 1)[1].rsplit(\"\\n```\", 1)[0]\n",
    "\n",
    "# Function to correct the code\n",
    "def correct_code(code):\n",
    "    corrected_lines = []\n",
    "    for line in code.split('\\n'):\n",
    "        # Detect lines that might be comments but are not marked as such\n",
    "        if re.match(r\"^[A-Z].*\", line) and not re.match(r\"^(import |from |class |def |#)\", line):\n",
    "            line = \"# \" + line\n",
    "        corrected_lines.append(line)\n",
    "    \n",
    "    return '\\n'.join(corrected_lines)\n",
    "\n",
    "# Apply the correction\n",
    "corrected_code = correct_code(code_string)\n",
    "print(corrected_code)"
   ]
  },
  {
   "cell_type": "code",
   "execution_count": 14,
   "id": "fb0a59ec-57fc-4390-bf6c-bd1a5e45ee65",
   "metadata": {},
   "outputs": [
    {
     "data": {
      "image/png": "[encoded data removed]",
      "text/plain": [
       "<Figure size 640x480 with 1 Axes>"
      ]
     },
     "metadata": {},
     "output_type": "display_data"
    }
   ],
   "source": [
    "exec(corrected_code)"
   ]
  }
 ],
 "metadata": {
  "kernelspec": {
   "display_name": "Python 3 (ipykernel)",
   "language": "python",
   "name": "python3"
  },
  "language_info": {
   "codemirror_mode": {
    "name": "ipython",
    "version": 3
   },
   "file_extension": ".py",
   "mimetype": "text/x-python",
   "name": "python",
   "nbconvert_exporter": "python",
   "pygments_lexer": "ipython3",
   "version": "3.10.12"
  }
 },
 "nbformat": 4,
 "nbformat_minor": 5
}
